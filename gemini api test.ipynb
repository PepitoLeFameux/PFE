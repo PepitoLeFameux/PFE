{
 "cells": [
  {
   "cell_type": "code",
   "outputs": [],
   "source": [
    "from google import genai\n",
    "import os\n",
    "import time\n",
    "from IPython.display import Markdown\n",
    "import subprocess\n",
    "import sys"
   ],
   "metadata": {
    "collapsed": false,
    "ExecuteTime": {
     "end_time": "2025-03-12T17:29:49.144673Z",
     "start_time": "2025-03-12T17:29:48.019593Z"
    }
   },
   "id": "929a51375273cdc8",
   "execution_count": 3
  },
  {
   "cell_type": "code",
   "outputs": [
    {
     "name": "stdout",
     "output_type": "stream",
     "text": [
      "My files:\n"
     ]
    }
   ],
   "source": [
    "client = genai.Client(api_key=os.environ.get('GEMINI_API_KEY'))\n",
    "\n",
    "print('My files:')\n",
    "for f in client.files.list():\n",
    "    print(\" \", f'{f.name}: {f.uri}')\n",
    "    client.files.delete(name=f.name)\n"
   ],
   "metadata": {
    "collapsed": false,
    "ExecuteTime": {
     "end_time": "2025-03-12T11:25:28.861927Z",
     "start_time": "2025-03-12T11:25:28.332672Z"
    }
   },
   "id": "410d1528a1b44f43",
   "execution_count": 14
  },
  {
   "cell_type": "code",
   "outputs": [
    {
     "name": "stdout",
     "output_type": "stream",
     "text": [
      "Original video size: 576x1024, FPS: 30\n",
      "Resized video size: 270x480\n",
      "Video resized successfully. Saved as 'resized.mp4'.\n"
     ]
    }
   ],
   "source": [
    "import cv2\n",
    "\n",
    "def resize_video(input_path, output_path, width=None, height=None):\n",
    "    # Open the video file\n",
    "    cap = cv2.VideoCapture(input_path)\n",
    "    if not cap.isOpened():\n",
    "        print(f\"Error: Could not open video file {input_path}\")\n",
    "        return\n",
    "    \n",
    "    # Get original dimensions and frame rate\n",
    "    original_width = int(cap.get(cv2.CAP_PROP_FRAME_WIDTH))\n",
    "    original_height = int(cap.get(cv2.CAP_PROP_FRAME_HEIGHT))\n",
    "    fps = int(cap.get(cv2.CAP_PROP_FPS))\n",
    "    \n",
    "    print(f\"Original video size: {original_width}x{original_height}, FPS: {fps}\")\n",
    "    \n",
    "    # Determine new size while maintaining aspect ratio if needed\n",
    "    if width is None and height is None:\n",
    "        new_width, new_height = original_width, original_height\n",
    "    elif width is None:\n",
    "        new_width = int(original_width * (height / original_height))\n",
    "        new_height = height\n",
    "    elif height is None:\n",
    "        new_height = int(original_height * (width / original_width))\n",
    "        new_width = width\n",
    "    else:\n",
    "        new_width, new_height = width, height\n",
    "    \n",
    "    print(f\"Resized video size: {new_width}x{new_height}\")\n",
    "    \n",
    "    # Define the codec and create VideoWriter object\n",
    "    fourcc = cv2.VideoWriter_fourcc(*'mp4v')  # Codec for MP4\n",
    "    out = cv2.VideoWriter(output_path, fourcc, fps, (new_width, new_height))\n",
    "    \n",
    "    # Process each frame\n",
    "    while True:\n",
    "        ret, frame = cap.read()\n",
    "        if not ret:\n",
    "            break\n",
    "        \n",
    "        # Resize the frame\n",
    "        resized_frame = cv2.resize(frame, (new_width, new_height), interpolation=cv2.INTER_AREA)\n",
    "        \n",
    "        # Write the resized frame\n",
    "        out.write(resized_frame)\n",
    "    \n",
    "    # Release resources\n",
    "    cap.release()\n",
    "    out.release()\n",
    "    print(f\"Video resized successfully. Saved as '{output_path}'.\")\n",
    "        \n",
    "\n",
    "resize_video(\"PostsOfCats-1888852858608521343-01.mp4\", \"resized.mp4\", width=None, height=480)"
   ],
   "metadata": {
    "collapsed": false,
    "ExecuteTime": {
     "end_time": "2025-03-12T11:35:39.615505Z",
     "start_time": "2025-03-12T11:35:36.499709Z"
    }
   },
   "id": "48d9574b046de925",
   "execution_count": 15
  },
  {
   "cell_type": "code",
   "outputs": [
    {
     "name": "stdout",
     "output_type": "stream",
     "text": [
      "Uploading file...\n",
      "Completed upload: https://generativelanguage.googleapis.com/v1beta/files/rlvddlre4f1e\n",
      "..Done\n",
      "Video name: files/rlvddlre4f1e\n"
     ]
    }
   ],
   "source": [
    "client = genai.Client(api_key=os.environ.get('GEMINI_API_KEY'))\n",
    "\n",
    "print(\"Uploading file...\")\n",
    "video_file = client.files.upload(file=\"videos/ujythgrfe.mp4\")\n",
    "print(f\"Completed upload: {video_file.uri}\")\n",
    "\n",
    "\n",
    "# Check whether the file is ready to be used.\n",
    "while video_file.state.name == \"PROCESSING\":\n",
    "    print('.', end='')\n",
    "    time.sleep(1)\n",
    "    video_file = client.files.get(name=video_file.name)\n",
    "\n",
    "if video_file.state.name == \"FAILED\":\n",
    "    raise ValueError(video_file.state.name)\n",
    "\n",
    "print('Done')\n",
    "print('Video name:', video_file.name)"
   ],
   "metadata": {
    "collapsed": false,
    "ExecuteTime": {
     "end_time": "2025-03-12T17:29:58.681381Z",
     "start_time": "2025-03-12T17:29:53.620479Z"
    }
   },
   "id": "2c32c58ee46f67bb",
   "execution_count": 4
  },
  {
   "cell_type": "code",
   "outputs": [],
   "source": [
    "video_file_name = client.files.get(name=video_file.name)\n",
    "\n",
    "# Pass the video file reference like any other media part.\n",
    "response = client.models.generate_content(\n",
    "    model=\"gemini-1.5-pro\",\n",
    "    contents=[\n",
    "        video_file,\n",
    "        \"Summarize this video. Then create a quiz with answer key \"\n",
    "        \"based on the information in the video.\"])"
   ],
   "metadata": {
    "collapsed": false,
    "ExecuteTime": {
     "end_time": "2025-03-12T11:59:06.279153Z",
     "start_time": "2025-03-12T11:58:59.585524Z"
    }
   },
   "id": "1f0737fe9c14bdcd",
   "execution_count": 17
  },
  {
   "cell_type": "code",
   "outputs": [
    {
     "name": "stdout",
     "output_type": "stream",
     "text": [
      "This video shows a tabby cat sitting on a computer tower. The cat appears to be talking or meowing at the camera.\n",
      "\n",
      "**Quiz Questions:**\n",
      "\n",
      "1. **What kind of animal is featured in the video?**\n",
      "   a) Dog\n",
      "   b) Cat\n",
      "   c) Hamster\n",
      "   d) Bird\n",
      "\n",
      "2. **Where is the animal sitting?**\n",
      "   a) On a desk\n",
      "   b) On a chair\n",
      "   c) On a computer tower\n",
      "   d) On a laptop\n",
      "\n",
      "3. **What color is the computer tower?**\n",
      "   a) Black\n",
      "   b) White\n",
      "   c) Gray\n",
      "   d) Blue\n",
      "\n",
      "4. **What is the cat doing in the video?**\n",
      "   a) Sleeping\n",
      "   b) Eating\n",
      "   c) Playing\n",
      "   d) Meowing/Talking\n",
      "\n",
      "5. **What color is the light emanating from inside the computer tower?**\n",
      "    a) Red\n",
      "    b) Green\n",
      "    c) Blue\n",
      "    d) Yellow\n",
      "\n",
      "\n",
      "\n",
      "**Answer Key:**\n",
      "\n",
      "1. b\n",
      "2. c\n",
      "3. b\n",
      "4. d\n",
      "5. c\n"
     ]
    }
   ],
   "source": [
    "print(response.candidates[0].content.parts[0].text)"
   ],
   "metadata": {
    "collapsed": false,
    "ExecuteTime": {
     "end_time": "2025-03-12T12:00:02.976496Z",
     "start_time": "2025-03-12T12:00:02.972095Z"
    }
   },
   "id": "c17f5f8b9c4ac1e6",
   "execution_count": 20
  },
  {
   "cell_type": "code",
   "outputs": [],
   "source": [
    "client.files.delete(name=video_file_name)"
   ],
   "metadata": {
    "collapsed": false
   },
   "id": "b8ec01dc97d0afc3"
  },
  {
   "cell_type": "code",
   "outputs": [
    {
     "ename": "FileNotFoundError",
     "evalue": "[WinError 2] Le fichier spécifié est introuvable",
     "output_type": "error",
     "traceback": [
      "\u001B[31m---------------------------------------------------------------------------\u001B[39m",
      "\u001B[31mFileNotFoundError\u001B[39m                         Traceback (most recent call last)",
      "\u001B[36mCell\u001B[39m\u001B[36m \u001B[39m\u001B[32mIn[1]\u001B[39m\u001B[32m, line 25\u001B[39m\n\u001B[32m     22\u001B[39m         \u001B[38;5;28mprint\u001B[39m(e.stderr.decode(), file=sys.stderr)\n\u001B[32m     23\u001B[39m         sys.exit(\u001B[32m1\u001B[39m)\n\u001B[32m---> \u001B[39m\u001B[32m25\u001B[39m \u001B[43mgenerate_thumbnail\u001B[49m\u001B[43m(\u001B[49m\u001B[43min_filename\u001B[49m\u001B[43m,\u001B[49m\u001B[43m \u001B[49m\u001B[43mout_filename\u001B[49m\u001B[43m)\u001B[49m\n",
      "\u001B[36mCell\u001B[39m\u001B[36m \u001B[39m\u001B[32mIn[1]\u001B[39m\u001B[32m, line 9\u001B[39m, in \u001B[36mgenerate_thumbnail\u001B[39m\u001B[34m(in_filename, out_filename)\u001B[39m\n\u001B[32m      8\u001B[39m \u001B[38;5;28;01mdef\u001B[39;00m\u001B[38;5;250m \u001B[39m\u001B[34mgenerate_thumbnail\u001B[39m(in_filename, out_filename):\n\u001B[32m----> \u001B[39m\u001B[32m9\u001B[39m     probe = \u001B[43mffmpeg\u001B[49m\u001B[43m.\u001B[49m\u001B[43mprobe\u001B[49m\u001B[43m(\u001B[49m\u001B[43min_filename\u001B[49m\u001B[43m)\u001B[49m\n\u001B[32m     10\u001B[39m     time = \u001B[38;5;28mfloat\u001B[39m(probe[\u001B[33m'\u001B[39m\u001B[33mstreams\u001B[39m\u001B[33m'\u001B[39m][\u001B[32m0\u001B[39m][\u001B[33m'\u001B[39m\u001B[33mduration\u001B[39m\u001B[33m'\u001B[39m]) // \u001B[32m2\u001B[39m\n\u001B[32m     11\u001B[39m     width = probe[\u001B[33m'\u001B[39m\u001B[33mstreams\u001B[39m\u001B[33m'\u001B[39m][\u001B[32m0\u001B[39m][\u001B[33m'\u001B[39m\u001B[33mwidth\u001B[39m\u001B[33m'\u001B[39m]\n",
      "\u001B[36mFile \u001B[39m\u001B[32m~\\Documents\\ESME\\Inge 3\\PFE\\.venv\\Lib\\site-packages\\ffmpeg\\_probe.py:20\u001B[39m, in \u001B[36mprobe\u001B[39m\u001B[34m(filename, cmd, **kwargs)\u001B[39m\n\u001B[32m     17\u001B[39m args += convert_kwargs_to_cmd_line_args(kwargs)\n\u001B[32m     18\u001B[39m args += [filename]\n\u001B[32m---> \u001B[39m\u001B[32m20\u001B[39m p = \u001B[43msubprocess\u001B[49m\u001B[43m.\u001B[49m\u001B[43mPopen\u001B[49m\u001B[43m(\u001B[49m\u001B[43margs\u001B[49m\u001B[43m,\u001B[49m\u001B[43m \u001B[49m\u001B[43mstdout\u001B[49m\u001B[43m=\u001B[49m\u001B[43msubprocess\u001B[49m\u001B[43m.\u001B[49m\u001B[43mPIPE\u001B[49m\u001B[43m,\u001B[49m\u001B[43m \u001B[49m\u001B[43mstderr\u001B[49m\u001B[43m=\u001B[49m\u001B[43msubprocess\u001B[49m\u001B[43m.\u001B[49m\u001B[43mPIPE\u001B[49m\u001B[43m)\u001B[49m\n\u001B[32m     21\u001B[39m out, err = p.communicate()\n\u001B[32m     22\u001B[39m \u001B[38;5;28;01mif\u001B[39;00m p.returncode != \u001B[32m0\u001B[39m:\n",
      "\u001B[36mFile \u001B[39m\u001B[32mC:\\Program Files\\WindowsApps\\PythonSoftwareFoundation.Python.3.12_3.12.2544.0_x64__qbz5n2kfra8p0\\Lib\\subprocess.py:1028\u001B[39m, in \u001B[36mPopen.__init__\u001B[39m\u001B[34m(self, args, bufsize, executable, stdin, stdout, stderr, preexec_fn, close_fds, shell, cwd, env, universal_newlines, startupinfo, creationflags, restore_signals, start_new_session, pass_fds, user, group, extra_groups, encoding, errors, text, umask, pipesize, process_group)\u001B[39m\n\u001B[32m   1024\u001B[39m         \u001B[38;5;28;01mif\u001B[39;00m \u001B[38;5;28mself\u001B[39m.text_mode:\n\u001B[32m   1025\u001B[39m             \u001B[38;5;28mself\u001B[39m.stderr = io.TextIOWrapper(\u001B[38;5;28mself\u001B[39m.stderr,\n\u001B[32m   1026\u001B[39m                     encoding=encoding, errors=errors)\n\u001B[32m-> \u001B[39m\u001B[32m1028\u001B[39m     \u001B[38;5;28;43mself\u001B[39;49m\u001B[43m.\u001B[49m\u001B[43m_execute_child\u001B[49m\u001B[43m(\u001B[49m\u001B[43margs\u001B[49m\u001B[43m,\u001B[49m\u001B[43m \u001B[49m\u001B[43mexecutable\u001B[49m\u001B[43m,\u001B[49m\u001B[43m \u001B[49m\u001B[43mpreexec_fn\u001B[49m\u001B[43m,\u001B[49m\u001B[43m \u001B[49m\u001B[43mclose_fds\u001B[49m\u001B[43m,\u001B[49m\n\u001B[32m   1029\u001B[39m \u001B[43m                        \u001B[49m\u001B[43mpass_fds\u001B[49m\u001B[43m,\u001B[49m\u001B[43m \u001B[49m\u001B[43mcwd\u001B[49m\u001B[43m,\u001B[49m\u001B[43m \u001B[49m\u001B[43menv\u001B[49m\u001B[43m,\u001B[49m\n\u001B[32m   1030\u001B[39m \u001B[43m                        \u001B[49m\u001B[43mstartupinfo\u001B[49m\u001B[43m,\u001B[49m\u001B[43m \u001B[49m\u001B[43mcreationflags\u001B[49m\u001B[43m,\u001B[49m\u001B[43m \u001B[49m\u001B[43mshell\u001B[49m\u001B[43m,\u001B[49m\n\u001B[32m   1031\u001B[39m \u001B[43m                        \u001B[49m\u001B[43mp2cread\u001B[49m\u001B[43m,\u001B[49m\u001B[43m \u001B[49m\u001B[43mp2cwrite\u001B[49m\u001B[43m,\u001B[49m\n\u001B[32m   1032\u001B[39m \u001B[43m                        \u001B[49m\u001B[43mc2pread\u001B[49m\u001B[43m,\u001B[49m\u001B[43m \u001B[49m\u001B[43mc2pwrite\u001B[49m\u001B[43m,\u001B[49m\n\u001B[32m   1033\u001B[39m \u001B[43m                        \u001B[49m\u001B[43merrread\u001B[49m\u001B[43m,\u001B[49m\u001B[43m \u001B[49m\u001B[43merrwrite\u001B[49m\u001B[43m,\u001B[49m\n\u001B[32m   1034\u001B[39m \u001B[43m                        \u001B[49m\u001B[43mrestore_signals\u001B[49m\u001B[43m,\u001B[49m\n\u001B[32m   1035\u001B[39m \u001B[43m                        \u001B[49m\u001B[43mgid\u001B[49m\u001B[43m,\u001B[49m\u001B[43m \u001B[49m\u001B[43mgids\u001B[49m\u001B[43m,\u001B[49m\u001B[43m \u001B[49m\u001B[43muid\u001B[49m\u001B[43m,\u001B[49m\u001B[43m \u001B[49m\u001B[43mumask\u001B[49m\u001B[43m,\u001B[49m\n\u001B[32m   1036\u001B[39m \u001B[43m                        \u001B[49m\u001B[43mstart_new_session\u001B[49m\u001B[43m,\u001B[49m\u001B[43m \u001B[49m\u001B[43mprocess_group\u001B[49m\u001B[43m)\u001B[49m\n\u001B[32m   1037\u001B[39m \u001B[38;5;28;01mexcept\u001B[39;00m:\n\u001B[32m   1038\u001B[39m     \u001B[38;5;66;03m# Cleanup if the child failed starting.\u001B[39;00m\n\u001B[32m   1039\u001B[39m     \u001B[38;5;28;01mfor\u001B[39;00m f \u001B[38;5;129;01min\u001B[39;00m \u001B[38;5;28mfilter\u001B[39m(\u001B[38;5;28;01mNone\u001B[39;00m, (\u001B[38;5;28mself\u001B[39m.stdin, \u001B[38;5;28mself\u001B[39m.stdout, \u001B[38;5;28mself\u001B[39m.stderr)):\n",
      "\u001B[36mFile \u001B[39m\u001B[32mC:\\Program Files\\WindowsApps\\PythonSoftwareFoundation.Python.3.12_3.12.2544.0_x64__qbz5n2kfra8p0\\Lib\\subprocess.py:1540\u001B[39m, in \u001B[36mPopen._execute_child\u001B[39m\u001B[34m(self, args, executable, preexec_fn, close_fds, pass_fds, cwd, env, startupinfo, creationflags, shell, p2cread, p2cwrite, c2pread, c2pwrite, errread, errwrite, unused_restore_signals, unused_gid, unused_gids, unused_uid, unused_umask, unused_start_new_session, unused_process_group)\u001B[39m\n\u001B[32m   1538\u001B[39m \u001B[38;5;66;03m# Start the process\u001B[39;00m\n\u001B[32m   1539\u001B[39m \u001B[38;5;28;01mtry\u001B[39;00m:\n\u001B[32m-> \u001B[39m\u001B[32m1540\u001B[39m     hp, ht, pid, tid = \u001B[43m_winapi\u001B[49m\u001B[43m.\u001B[49m\u001B[43mCreateProcess\u001B[49m\u001B[43m(\u001B[49m\u001B[43mexecutable\u001B[49m\u001B[43m,\u001B[49m\u001B[43m \u001B[49m\u001B[43margs\u001B[49m\u001B[43m,\u001B[49m\n\u001B[32m   1541\u001B[39m \u001B[43m                             \u001B[49m\u001B[38;5;66;43;03m# no special security\u001B[39;49;00m\n\u001B[32m   1542\u001B[39m \u001B[43m                             \u001B[49m\u001B[38;5;28;43;01mNone\u001B[39;49;00m\u001B[43m,\u001B[49m\u001B[43m \u001B[49m\u001B[38;5;28;43;01mNone\u001B[39;49;00m\u001B[43m,\u001B[49m\n\u001B[32m   1543\u001B[39m \u001B[43m                             \u001B[49m\u001B[38;5;28;43mint\u001B[39;49m\u001B[43m(\u001B[49m\u001B[38;5;129;43;01mnot\u001B[39;49;00m\u001B[43m \u001B[49m\u001B[43mclose_fds\u001B[49m\u001B[43m)\u001B[49m\u001B[43m,\u001B[49m\n\u001B[32m   1544\u001B[39m \u001B[43m                             \u001B[49m\u001B[43mcreationflags\u001B[49m\u001B[43m,\u001B[49m\n\u001B[32m   1545\u001B[39m \u001B[43m                             \u001B[49m\u001B[43menv\u001B[49m\u001B[43m,\u001B[49m\n\u001B[32m   1546\u001B[39m \u001B[43m                             \u001B[49m\u001B[43mcwd\u001B[49m\u001B[43m,\u001B[49m\n\u001B[32m   1547\u001B[39m \u001B[43m                             \u001B[49m\u001B[43mstartupinfo\u001B[49m\u001B[43m)\u001B[49m\n\u001B[32m   1548\u001B[39m \u001B[38;5;28;01mfinally\u001B[39;00m:\n\u001B[32m   1549\u001B[39m     \u001B[38;5;66;03m# Child is launched. Close the parent's copy of those pipe\u001B[39;00m\n\u001B[32m   1550\u001B[39m     \u001B[38;5;66;03m# handles that only the child should have open.  You need\u001B[39;00m\n\u001B[32m   (...)\u001B[39m\u001B[32m   1553\u001B[39m     \u001B[38;5;66;03m# pipe will not close when the child process exits and the\u001B[39;00m\n\u001B[32m   1554\u001B[39m     \u001B[38;5;66;03m# ReadFile will hang.\u001B[39;00m\n\u001B[32m   1555\u001B[39m     \u001B[38;5;28mself\u001B[39m._close_pipe_fds(p2cread, p2cwrite,\n\u001B[32m   1556\u001B[39m                          c2pread, c2pwrite,\n\u001B[32m   1557\u001B[39m                          errread, errwrite)\n",
      "\u001B[31mFileNotFoundError\u001B[39m: [WinError 2] Le fichier spécifié est introuvable"
     ]
    }
   ],
   "source": [
    "import requests \n",
    "import ffmpeg\n",
    "import sys\n",
    "\n",
    "in_filename = \"videos/PostsOfCats-1888852858608521343-01.mp4\"\n",
    "out_filename = \"videos/THUMBNAIL.jpg\"\n",
    "\n",
    "def generate_thumbnail(in_filename, out_filename):\n",
    "    probe = ffmpeg.probe(in_filename)\n",
    "    time = float(probe['streams'][0]['duration']) // 2\n",
    "    width = probe['streams'][0]['width']\n",
    "    try:\n",
    "        (\n",
    "            ffmpeg\n",
    "            .input(in_filename, ss=time)\n",
    "            .filter('scale', width, -1)\n",
    "            .output(out_filename, vframes=1)\n",
    "            .overwrite_output()\n",
    "            .run(capture_stdout=True, capture_stderr=True)\n",
    "        )\n",
    "    except ffmpeg.Error as e:\n",
    "        print(e.stderr.decode(), file=sys.stderr)\n",
    "        sys.exit(1)\n",
    "\n",
    "generate_thumbnail(in_filename, out_filename)"
   ],
   "metadata": {
    "collapsed": false,
    "ExecuteTime": {
     "end_time": "2025-03-12T13:30:07.434622Z",
     "start_time": "2025-03-12T13:30:06.359257Z"
    }
   },
   "id": "a993404b8c7def0e",
   "execution_count": 1
  },
  {
   "cell_type": "code",
   "outputs": [],
   "source": [],
   "metadata": {
    "collapsed": false
   },
   "id": "9087b1d29d37e4ca"
  }
 ],
 "metadata": {
  "kernelspec": {
   "display_name": "Python 3",
   "language": "python",
   "name": "python3"
  },
  "language_info": {
   "codemirror_mode": {
    "name": "ipython",
    "version": 2
   },
   "file_extension": ".py",
   "mimetype": "text/x-python",
   "name": "python",
   "nbconvert_exporter": "python",
   "pygments_lexer": "ipython2",
   "version": "2.7.6"
  }
 },
 "nbformat": 4,
 "nbformat_minor": 5
}
